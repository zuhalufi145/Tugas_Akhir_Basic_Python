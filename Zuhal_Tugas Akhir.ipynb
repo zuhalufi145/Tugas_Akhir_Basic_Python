{
 "cells": [
  {
   "cell_type": "markdown",
   "metadata": {},
   "source": [
    "# TUGAS AKHIR"
   ]
  },
  {
   "cell_type": "code",
   "execution_count": 14,
   "metadata": {},
   "outputs": [
    {
     "name": "stdin",
     "output_type": "stream",
     "text": [
      "Masukkan e-mail pengirim :  zuhalufi@gmail.com\n",
      "Masukkan Password anda :  Globalfortune500\n",
      "Masukkan e-mail yang dituju :  mokhzuhalmuflih@gmail.com\n",
      "Masukkan Judul Pesan : Jual\n",
      " Tuliskan pesanmu  Diri\n"
     ]
    },
    {
     "name": "stdout",
     "output_type": "stream",
     "text": [
      "Email sedang dalam proses pengiriman\n",
      "E-mail terkirim\n"
     ]
    },
    {
     "data": {
      "text/plain": [
       "(221, b'2.0.0 closing connection x14sm5978746pfm.207 - gsmtp')"
      ]
     },
     "execution_count": 14,
     "metadata": {},
     "output_type": "execute_result"
    }
   ],
   "source": [
    "# Import library yang memfasilitasi pengiriman email\n",
    "import smtplib\n",
    "# Import libary untuk mengisi subyek E-mail\n",
    "from email.mime.multipart import MIMEMultipart\n",
    "from email.mime.text import MIMEText\n",
    "def email():\n",
    "    # input email pengirim, password dan email penerima\n",
    "    sender_email = input(\"Masukkan e-mail pengirim : \")\n",
    "    password     = input(str(\"Masukkan Password anda : \"))\n",
    "    rec_email   = input(\"Masukkan e-mail yang dituju : \")\n",
    "    msg = MIMEMultipart()\n",
    "    msg['From'] = sender_email\n",
    "    msg['To'] = rec_email\n",
    "    msg['Subject'] = input(\"Masukkan Judul Pesan :\") # perintah memasukkan judul pesan\n",
    "    pesan = input(\" Tuliskan pesanmu \")\n",
    "    msg.attach(MIMEText(pesan, 'plain')) # memanggil variable  pesan\n",
    "    # Server yang diinginkan ( dalam kasus ini hanya gmail saja )\n",
    "    server = smtplib.SMTP('smtp.gmail.com',587) # Angka 587 mengacu pada protokol yang digunakan dalam gmail\n",
    "    server.ehlo()\n",
    "    server.starttls()\n",
    "    # memanggil variabel pengirim dan passwordnya \n",
    "    server.login(sender_email,password)\n",
    "    print(\"Email sedang dalam proses pengiriman\")\n",
    "    text = msg.as_string() # menyimpan pesan yang ingin dikirimkan\n",
    "    # memanggil variabel penerima email\n",
    "    server.sendmail(sender_email, rec_email, text) # \n",
    "    print(\"E-mail terkirim\")\n",
    "    server.quit()"
   ]
  },
  {
   "cell_type": "code",
   "execution_count": 2,
   "metadata": {},
   "outputs": [
    {
     "name": "stdout",
     "output_type": "stream",
     "text": [
      "Hai, aku AIs, asisten virtual pertamamu \n",
      "Siapa namamu?\n"
     ]
    },
    {
     "name": "stdin",
     "output_type": "stream",
     "text": [
      " Masukkan nama :  zuhal\n"
     ]
    },
    {
     "name": "stdout",
     "output_type": "stream",
     "text": [
      "\n",
      " Salam kenal zuhal\n",
      "Apakah ada yang bisa aku bantu?\n",
      "\n",
      "Pilihan bantuan yang bisa aku berikan:\n",
      "1. Tentang hari ini\n",
      "2. Mengirimkan Email\n",
      "3. Keluar aplikasi\n"
     ]
    },
    {
     "name": "stdin",
     "output_type": "stream",
     "text": [
      " Silahkan pilih bantuan yang kamu inginkan :  2\n"
     ]
    },
    {
     "name": "stdout",
     "output_type": "stream",
     "text": [
      "\n",
      "SILAHKAN KIRIM EMAIL-MU DISINI !!!! :\n",
      "*****************************************\n",
      "Ayo pilih menu :\n",
      "a.Daftar Kontak\n",
      "b.Menulis Email\n",
      "c.Keluar\n"
     ]
    },
    {
     "name": "stdin",
     "output_type": "stream",
     "text": [
      " pilih hurufnya saja yaaa :  b\n",
      "Masukkan e-mail pengirim :  zuhalufi@gmail.com\n",
      "Masukkan Password anda :  Globalfortune500\n",
      "Masukkan e-mail yang dituju :  mokhzuhalmuflih@gmail.com\n"
     ]
    },
    {
     "name": "stdout",
     "output_type": "stream",
     "text": [
      "\n",
      "==========================================\n",
      "Baiklah, kontak penerima berhasil ditambahkan\n",
      "============================================\n"
     ]
    },
    {
     "name": "stdin",
     "output_type": "stream",
     "text": [
      "Masukkan Judul Pesan : ini\n",
      " Tuliskan pesanmu  adalah pesan\n",
      "apakah kamu mau melampirkan file didalam email: (Y/N) Y\n"
     ]
    },
    {
     "name": "stdout",
     "output_type": "stream",
     "text": [
      "*****************************************\n",
      "Email sedang dalam proses pengiriman\n",
      "E-mail terkirim\n",
      "\n",
      "SILAHKAN KIRIM EMAIL-MU DISINI !!!! :\n",
      "*****************************************\n",
      "Ayo pilih menu :\n",
      "a.Daftar Kontak\n",
      "b.Menulis Email\n",
      "c.Keluar\n"
     ]
    },
    {
     "name": "stdin",
     "output_type": "stream",
     "text": [
      " pilih hurufnya saja yaaa :  a\n"
     ]
    },
    {
     "name": "stdout",
     "output_type": "stream",
     "text": [
      "====================================\n",
      "Jumlah kontak ada 1 Berikut ini daftarnya \n",
      "====================================\n",
      "Kontak Email :  mokhzuhalmuflih@gmail.com\n",
      "\n",
      "SILAHKAN KIRIM EMAIL-MU DISINI !!!! :\n",
      "*****************************************\n",
      "Ayo pilih menu :\n",
      "a.Daftar Kontak\n",
      "b.Menulis Email\n",
      "c.Keluar\n"
     ]
    },
    {
     "name": "stdin",
     "output_type": "stream",
     "text": [
      " pilih hurufnya saja yaaa :  c\n"
     ]
    },
    {
     "name": "stdout",
     "output_type": "stream",
     "text": [
      "\n",
      "Ya sudah kalau begitu\n",
      "-------------------------------------\n",
      "\n",
      "Pilihan bantuan yang bisa aku berikan:\n",
      "1. Tentang hari ini\n",
      "2. Mengirimkan Email\n",
      "3. Keluar aplikasi\n"
     ]
    },
    {
     "name": "stdin",
     "output_type": "stream",
     "text": [
      " Silahkan pilih bantuan yang kamu inginkan :  3\n"
     ]
    },
    {
     "name": "stdout",
     "output_type": "stream",
     "text": [
      "\n",
      "Ya sudah kalau begitu\n",
      "-------------------------------------\n"
     ]
    }
   ],
   "source": [
    "### lIBRARY date time\n",
    "import datetime\n",
    "d=datetime.datetime.now()\n",
    "# Import library yang memfasilitasi pengiriman email\n",
    "import smtplib\n",
    "# Import libary untuk mengisi subyek E-mail\n",
    "from email.mime.multipart import MIMEMultipart\n",
    "from email.mime.text import MIMEText\n",
    "from email.mime.base import MIMEBase\n",
    "from email import encoders\n",
    "\n",
    "# Fungsi Menu awal\n",
    "def menu():\n",
    "    print(\"Pilihan bantuan yang bisa aku berikan:\")\n",
    "    print(\"1. Tentang hari ini\")\n",
    "    print(\"2. Mengirimkan Email\")\n",
    "    print(\"3. Keluar aplikasi\")\n",
    "    \n",
    "# Hari dalam bahasa indonesia\n",
    "hari_ind ={\"Sunday\":\"Minggu\",\"Monday\":\"Senin\", \"Tuesday\": \"Selasa\", \"Wednesday\": \"Rabu\", \n",
    "            \"Thursday\": \"Kamis\", \"Friday\": \"Jumat\", \"Saturday\": \"Sabtu\"\n",
    "          }\n",
    "\n",
    "# Fungsi hari\n",
    "def hari():\n",
    "    while True:\n",
    "        print(\"\\nApa yang kamu ingin tahu tentang hari ini? :\")\n",
    "        print(\"*****************************************\")\n",
    "        print(\"Ayo pilih menu :\")\n",
    "        print(\"a.Hari ini hari apa?\")\n",
    "        print(\"b.Hari ini tanggal berapa?\")\n",
    "        print(\"c.Keluar\")\n",
    "        \n",
    "        operasi = input(\" Pilih hurufnya saja yaa :\")\n",
    "        if operasi ==\"a\":\n",
    "            hari =d.strftime(\"%A\")\n",
    "            print(\"Ya ampun, masa kamu lupa, hari ini kan hari\",hari_ind[hari])\n",
    "        elif operasi ==\"b\":\n",
    "            print(\"Hari ini tanggal : \",d.strftime(\"%d-%m-%Y\"))\n",
    "            \n",
    "        elif operasi ==\"c\":\n",
    "            print(\"\\nYasuda kalo gitu\")\n",
    "            print(\"==================\")\n",
    "            break\n",
    "        else:\n",
    "            print(\"\\nMaaf, pilihan hurufmu tidak ada dalam daftar\")\n",
    "            print(\"==================\")\n",
    "\n",
    "Receiver_List=[]\n",
    "\n",
    "   \n",
    "def email():\n",
    "    print(\"\\nSILAHKAN KIRIM EMAIL-MU DISINI !!!! :\")\n",
    "    print(\"*****************************************\")\n",
    "    print(\"Ayo pilih menu :\")\n",
    "    print(\"a.Daftar Kontak\")\n",
    "    print(\"b.Menulis Email\")\n",
    "    print(\"c.Keluar\")\n",
    "    \n",
    "    \n",
    "#tampilkan Receiver_list     \n",
    "def tampilkan_receiver():\n",
    "    if not Receiver_List:\n",
    "        print(\"====================================\")\n",
    "        print(\"Daftar kontakmu kosong\")\n",
    "        print(\"====================================\")\n",
    "    else:\n",
    "        print(\"====================================\")\n",
    "        print(\"Jumlah kontak ada\",len(Receiver_List),\"Berikut ini daftarnya \")\n",
    "        print(\"====================================\")\n",
    "        for receiver in Receiver_List:\n",
    "            print(\"Kontak Email : \",receiver[\"Receiver\"])\n",
    "                \n",
    "def tambah_receiver_list():\n",
    "   \n",
    "    sender_email = input(\"Masukkan e-mail pengirim : \")\n",
    "    password     = input(str(\"Masukkan Password anda : \"))\n",
    "    rec_email   = input(\"Masukkan e-mail yang dituju : \")\n",
    "    msg = MIMEMultipart()\n",
    "    msg['From'] = sender_email\n",
    "    msg['To'] = rec_email\n",
    "    receiver = {\n",
    "        \"Receiver\":rec_email\n",
    "    } \n",
    "    Receiver_List.append(receiver)\n",
    "    print(\"\\n==========================================\")\n",
    "    print(\"Baiklah, kontak penerima berhasil ditambahkan\")\n",
    "    print(\"============================================\")\n",
    "    \n",
    "    msg['Subject'] = input(\"Masukkan Judul Pesan :\") # perintah memasukkan judul pesan\n",
    "    pesan = input(\" Tuliskan pesanmu \")\n",
    "    msg.attach(MIMEText(pesan, 'plain')) # memanggil variable  pesan\n",
    "    \n",
    "    kirim = input(\"apakah kamu mau melampirkan file didalam email: (Y/N)\")\n",
    "    print(\"*****************************************\")\n",
    "    if kirim == 'Y':\n",
    "        # Lampiran, sesuaikan nama filename dengan nama di attachment\n",
    "        filename = \"SimulasiPA2_Diskrit.slxc\"\n",
    "        attachment = open(\"D:\\SimulasiPA2_Diskrit.slxc\", \"rb\") \n",
    "        part = MIMEBase('application', 'octet-stream')\n",
    "        part.set_payload((attachment).read())\n",
    "        encoders.encode_base64(part)\n",
    "        part.add_header('Content-Disposition', \"attachment; filename= %s\" % filename)\n",
    "        msg.attach(part)\n",
    "        # Server yang diinginkan ( dalam kasus ini hanya gmail saja )\n",
    "        server = smtplib.SMTP('smtp.gmail.com',587) # Angka 587 mengacu pada protokol yang digunakan dalam gmail\n",
    "        server.ehlo()\n",
    "        server.starttls()\n",
    "        # memanggil variabel pengirim dan passwordnya \n",
    "        server.login(sender_email,password)\n",
    "        print(\"Email sedang dalam proses pengiriman\")\n",
    "        text = msg.as_string() # menyimpan pesan yang ingin dikirimkan\n",
    "        # memanggil variabel penerima email\n",
    "        server.sendmail(sender_email, rec_email, text) # \n",
    "        print(\"E-mail terkirim\")\n",
    "        server.quit()\n",
    "    else:\n",
    "        # Server yang diinginkan ( dalam kasus ini hanya gmail saja )\n",
    "        server = smtplib.SMTP('smtp.gmail.com',587) # Angka 587 mengacu pada protokol yang digunakan dalam gmail\n",
    "        server.ehlo()\n",
    "        server.starttls()\n",
    "        # memanggil variabel pengirim dan passwordnya \n",
    "        server.login(sender_email,password)\n",
    "        print(\"Email sedang dalam proses pengiriman\")\n",
    "        text = msg.as_string() # menyimpan pesan yang ingin dikirimkan\n",
    "        # memanggil variabel penerima email\n",
    "        server.sendmail(sender_email, rec_email, text) # \n",
    "        print(\"E-mail terkirim\")\n",
    "        server.quit()\n",
    "        \n",
    "# Create Receiver_List\n",
    "def simpan_receiver():\n",
    "    f = open(\"Receiver_List.txt\", \"w\")\n",
    "    f.write (\"Total Receiver ada-{}, ini ya rinciannya:\\n\".format(len(Receiver_List)))\n",
    "    for receiver in Receiver_List:\n",
    "        f.write(\"Receiver List : {}\".format(receiver[\"Receiver\"]))\n",
    "        f.write(\"------------------------------------------------------------------------------------------------------------\")\n",
    "    f.close()\n",
    "        \n",
    "# Pengantar \n",
    "print(\"Hai, aku AIs, asisten virtual pertamamu \")\n",
    "print(\"Siapa namamu?\")\n",
    "\n",
    "nama = input(\" Masukkan nama : \")\n",
    "\n",
    "print(\"\\n Salam kenal\",nama)\n",
    "print(\"Apakah ada yang bisa aku bantu?\")\n",
    "\n",
    "# Munculkan menu awal\n",
    "while True:\n",
    "    print('')\n",
    "    menu()\n",
    "    \n",
    "    pilih = input(\" Silahkan pilih bantuan yang kamu inginkan : \")\n",
    "    # Pilihan Program\n",
    "    if pilih =='1':\n",
    "        hari()\n",
    "    elif pilih =='2':\n",
    "        while True:\n",
    "            email()\n",
    "            pilih_email = input(\" pilih hurufnya saja yaaa : \")\n",
    "            if pilih_email =='a':\n",
    "                tampilkan_receiver()\n",
    "            elif pilih_email =='b':\n",
    "                tambah_receiver_list()\n",
    "            elif pilih_email =='c':\n",
    "                print(\"\\nYa sudah kalau begitu\")\n",
    "                print(\"-------------------------------------\")\n",
    "                simpan_receiver()\n",
    "                break\n",
    "    elif pilih =='3':\n",
    "        print(\"\\nYa sudah kalau begitu\")\n",
    "        print(\"-------------------------------------\")\n",
    "        break\n",
    "    else:\n",
    "        print(\"\\nMaaf, kamu memasukkan angka yang salah\")\n",
    "        print(\"====================================\")\n",
    "        "
   ]
  },
  {
   "cell_type": "code",
   "execution_count": null,
   "metadata": {},
   "outputs": [],
   "source": []
  },
  {
   "cell_type": "code",
   "execution_count": null,
   "metadata": {},
   "outputs": [],
   "source": []
  }
 ],
 "metadata": {
  "kernelspec": {
   "display_name": "Python 3",
   "language": "python",
   "name": "python3"
  },
  "language_info": {
   "codemirror_mode": {
    "name": "ipython",
    "version": 3
   },
   "file_extension": ".py",
   "mimetype": "text/x-python",
   "name": "python",
   "nbconvert_exporter": "python",
   "pygments_lexer": "ipython3",
   "version": "3.8.3"
  }
 },
 "nbformat": 4,
 "nbformat_minor": 4
}
